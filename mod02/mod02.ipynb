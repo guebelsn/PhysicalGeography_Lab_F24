{
 "cells": [
  {
   "cell_type": "code",
   "execution_count": null,
   "metadata": {
    "deletable": false,
    "editable": false
   },
   "outputs": [],
   "source": [
    "# Initialize Otter\n",
    "import otter\n",
    "grader = otter.Notebook(\"mod02.ipynb\")"
   ]
  },
  {
   "cell_type": "markdown",
   "metadata": {},
   "source": [
    "# Module 2: Climate Change and Causes\n",
    "\n",
    "This activity's goal is to review some of the material presented in the videos and lectures of module 2 by:\n",
    "- Importing data collected by NOAA\n",
    "- Focusing in on data of interest by looking at it in a tabular format\n",
    "- Visualizing the data using graphs, barcharts and maps\n",
    "- Observe, ask questions and learn from the data\n",
    "\n",
    "We will ...\n",
    "- Look at maximum temperature normals over 30 year intervals and describe our observations focusing in on California\n",
    "- Look at Carbon Dioxide (CO2), an important and rapidly increasing greenhouse gas \n",
    "\n",
    "The causes of climate change are simple enough, the increase in greenhouse gases emitted into the atmosphere have caused more trapped heat which has led to warmer temperatiures and more “fuel” for the movement of air, causing more extreme storms. The solutions to climate change are complex as they involve how we generate power, manufacture goods, and produce food, among other things. \n",
    "\n",
    "Let’s take a dive into the causes of climate change and try to understand why we must make changes to the way we produce energy and engage with the environment."
   ]
  },
  {
   "cell_type": "markdown",
   "metadata": {},
   "source": [
    "To get started, just run the code cell below to import some python libraries that will be used throughout this notebook.\n"
   ]
  },
  {
   "cell_type": "code",
   "execution_count": null,
   "metadata": {},
   "outputs": [],
   "source": [
    "# This coding cell imports some python libraries that we will be using throughout this notebook\n",
    "# Don't worry about what they are, just run this cell before running any other cells below this one\n",
    "from datascience import *\n",
    "import numpy as np\n",
    "import otter\n",
    "grader = otter.Notebook(\"mod02.ipynb\")\n",
    "\n",
    "%matplotlib inline\n",
    "import matplotlib.pyplot as plt\n",
    "plt.style.use('fivethirtyeight')\n",
    "\n",
    "import folium\n",
    "def createMap(locationInit, zoomInit, marker1Location, marker1Name, marker2Location, marker2Name):\n",
    "    myMap = folium.Map(location=locationInit, tiles=\"OpenStreetMap\", zoom_start= zoomInit)\n",
    "    folium.Marker(marker1Location, popup = marker1Name).add_to(myMap)\n",
    "    folium.Marker(location = marker2Location, popup = marker2Name).add_to(myMap)\n",
    "    return myMap\n",
    "\n",
    "from IPython.display import YouTubeVideo"
   ]
  },
  {
   "cell_type": "markdown",
   "metadata": {},
   "source": [
    "# 1 Climate Change"
   ]
  },
  {
   "cell_type": "markdown",
   "metadata": {},
   "source": [
    "[What is climate change?](https://www.un.org/en/climatechange/what-is-climate-change) In today's world, about everyone has heard of climate change.\n",
    "\n",
    "In this section we will look at maximum temperatures over time. Before we do so let's run the code cell below and watch a short recap on causes and effects of climate change."
   ]
  },
  {
   "cell_type": "code",
   "execution_count": null,
   "metadata": {},
   "outputs": [],
   "source": [
    "# Causes and Effects of Climate Change\n",
    "# The original URL is: \n",
    "# https://youtu.be/G4H1N_yXBiA\n",
    "\n",
    "YouTubeVideo(\"G4H1N_yXBiA\")"
   ]
  },
  {
   "cell_type": "markdown",
   "metadata": {},
   "source": [
    "## 1.1 Maximum temperatures across the US\n",
    "\n",
    "In this section, we will look how maximum temperatures are changing across the US. The data was collected at different weather stations across the US. The data was obtained on the [NOAA website](https://www.ncei.noaa.gov/access/us-climate-normals/).   <img src=\"noaa_logo.png\" alt=\"drawing\" width=\"50\"/>\n",
    "\n",
    "You can learn more about normals [here](https://www.ncei.noaa.gov/products/land-based-station/us-climate-normals). \n",
    "\n",
    "We will compare temperatures during two 30 year timeframes:\n",
    "- **1981-2010**\n",
    "- **1991-2020**\n",
    "\n",
    "Note: there is a 20 year overlap between the 2 timeframes\n",
    "\n",
    "**STEP 1:** Gather the data from the NOAA site for both timeframes, and upload it in our jupyter notebook as a table.\n",
    "\n",
    "Just run the cell below to see the data in a table. Note that only 10 rows are showed (with lots of rows omitted: see below table). There are `79692` observations in this table!"
   ]
  },
  {
   "cell_type": "code",
   "execution_count": null,
   "metadata": {},
   "outputs": [],
   "source": [
    "# Table of normals of maximum temperatures (in degrees F) across the US\n",
    "climate = Table.read_table('Comparison_Normals_Maximum_Temperature.csv').drop('OLD_1981_2010')\n",
    "climate = climate.with_columns('degrees F 1981-2010', climate.column('NEW_1981_2010')/10,'degrees F 1991-2020', climate.column('NEW_1991_2020')/10).drop('NEW_1981_2010', 'NEW_1991_2020')\n",
    "difference_max_temps = climate.column('degrees F 1991-2020') - climate.column('degrees F 1981-2010')\n",
    "climate_increasedTemp = climate.with_column(\"Increase in Maximum Temperature\", difference_max_temps > 0)\n",
    "climate_increasedTemp"
   ]
  },
  {
   "cell_type": "markdown",
   "metadata": {},
   "source": [
    "Take a moment to look at the tables above. Looking at such a large table to make an observation is impossible. This is where a chart, plot or histogram comes in handy!\n",
    "\n",
    "If we work with the data and count how many stations recorded an increase between the first and second timeframe (= count the number of times we see `True` in the last column) and look at it as an overall percentage each month, we can get to the next step!\n",
    "\n",
    "**STEP 2**: Visualize the table data by using a bar chart or a plot. \n",
    "Just run the cell below to look at the % stations with increased max temperatures for each month.\n"
   ]
  },
  {
   "cell_type": "code",
   "execution_count": null,
   "metadata": {},
   "outputs": [],
   "source": [
    "# data NOAA, comparing normals of maximum temperatures across the US\n",
    "def barChartIncreasedTemp(state = ''):  \n",
    "    '''creates a bar chart of % stations showing an increase in temperatures \n",
    "    for a specific state, using the table given a table climate_increasedTemp\n",
    "    defined in cell above.If no specific state is defined, \n",
    "    the bar chart will be shown for all stations\n",
    "    ''' \n",
    "    if state != '':\n",
    "        increasedTempTable = climate_increasedTemp.where('STATE', state)\n",
    "    else:\n",
    "        increasedTempTable = climate_increasedTemp\n",
    "    state_str = f\"% {state} stations with increased max temperature\"\n",
    "    month_temp_increase = increasedTempTable.pivot(\"Increase in Maximum Temperature\", \"MONTH\")\n",
    "    month_temp_increase.with_column(state_str, \n",
    "                                    month_temp_increase.column('True')*100/(month_temp_increase.column('True')+month_temp_increase.column('False'))).barh(\n",
    "                                        'MONTH', state_str)\n",
    "    \n",
    "#Let's look at all stations and the percentage of stations that show an increase in maximum temperature between\n",
    "# 1981-2010 and 1991-2020\n",
    "barChartIncreasedTemp()\n"
   ]
  },
  {
   "cell_type": "code",
   "execution_count": null,
   "metadata": {},
   "outputs": [],
   "source": [
    "#Let's focus in on California (if you would like to look at any other states, simply change CA to the abreviation of another state)\n",
    "barChartIncreasedTemp('CA')"
   ]
  },
  {
   "cell_type": "markdown",
   "metadata": {
    "deletable": false,
    "editable": false
   },
   "source": [
    "<!-- BEGIN QUESTION -->\n",
    "\n",
    "**Question 1.1** Do we see greater percentages in CA versus overall at all weather stations? Do you see a significant difference when comparing months? What could be some reasons for these differences?"
   ]
  },
  {
   "cell_type": "markdown",
   "metadata": {},
   "source": [
    "_Type your answer here, replacing this text._"
   ]
  },
  {
   "cell_type": "markdown",
   "metadata": {
    "deletable": false,
    "editable": false
   },
   "source": [
    "<!-- END QUESTION -->\n",
    "\n",
    "Now that we have looked at the percentage of stations that show an increase, let's use this data set to see which stations in California show the most significant differences between the 2 time periods. Run the cell below to see a table showing all stations with an increase in max temperature of 3 or more degrees."
   ]
  },
  {
   "cell_type": "code",
   "execution_count": null,
   "metadata": {},
   "outputs": [],
   "source": [
    "# Where in CA were the largest increases measured? Let's look at differences equal or greater than 3 degrees F.\n",
    "def displayTableWithStationsLargestIncrease(start_Table, state, show_diff_above_or_equal):\n",
    "    climate_increasedTemp = start_Table.where('STATE', state)\n",
    "    climate_increasedTemp.with_column(\n",
    "        'Max Temp Difference', climate_increasedTemp.column('degrees F 1991-2020')- climate_increasedTemp.column('degrees F 1981-2010')).where(\n",
    "            'Max Temp Difference', are.above_or_equal_to(show_diff_above_or_equal)).show()\n",
    "    \n",
    "difference_in_temp = 3\n",
    "displayTableWithStationsLargestIncrease(climate_increasedTemp, 'CA', difference_in_temp)"
   ]
  },
  {
   "cell_type": "markdown",
   "metadata": {},
   "source": [
    "As seen in the table above, many stations show an increase of 3 or more degrees F. Let's try to narrow down the 2 stations with the largest differences.\n",
    "\n",
    "**Question 1.2** Change the variable **difference_in_temp** to a value greater than 3 in the coding cell below and run the code Continue trying different numbers until the table only includes data from 2 stations."
   ]
  },
  {
   "cell_type": "code",
   "execution_count": null,
   "metadata": {
    "tags": []
   },
   "outputs": [],
   "source": [
    "difference_in_temp = ...\n",
    "displayTableWithStationsLargestIncrease(climate_increasedTemp, 'CA', difference_in_temp)"
   ]
  },
  {
   "cell_type": "code",
   "execution_count": null,
   "metadata": {
    "deletable": false,
    "editable": false
   },
   "outputs": [],
   "source": [
    "grader.check(\"q12\")"
   ]
  },
  {
   "cell_type": "markdown",
   "metadata": {},
   "source": [
    "**Question 1.3** Which two stations show the largest differences in maximum temperatures in CA. Do you see any differences/similarities in terms of monthly observations? Share your thoughts."
   ]
  },
  {
   "cell_type": "markdown",
   "metadata": {},
   "source": [
    "_Type your answer here, replacing this text._"
   ]
  },
  {
   "cell_type": "markdown",
   "metadata": {
    "deletable": false,
    "editable": false
   },
   "source": [
    "<!-- END QUESTION -->\n",
    "\n",
    "Now that we have looked at this data in table format, let's look at the location of these 2 stations on the map. \n",
    "\n",
    "**Question 1.4** In the coding cell below:\n",
    "- Set max1_lat and max1_long equal to the latitude and longitude of the station with the greatest latitude of the 2 stations found\n",
    "- Set max2_lat and max2_long equal to the latitude and longitude of the station with the lowest latitude of the 2 stations found\n",
    "- Change the text 'station 1' to the name of the first station (make sure you put the name in quotes, in code this tells your program it is a string/text)\n",
    "- Change the text 'station 2' to the name of the first station (make sure you put the name in quotes, in code this tells your program it is a string/text)\n",
    "\n",
    "HINT: you can use [Google Maps](https://www.google.com/maps) and right click on a location to get the coordinates or you can just use google search to find the latitude and longitude of both stations"
   ]
  },
  {
   "cell_type": "code",
   "execution_count": null,
   "metadata": {
    "tags": []
   },
   "outputs": [],
   "source": [
    "#Add a map to show where the stations are\n",
    "max1_lat = ...\n",
    "max1_long = ...\n",
    "name1 = 'station 1'\n",
    "max2_lat = ...\n",
    "max2_long = ...\n",
    "name2 = 'station 2'\n",
    "\n",
    "#Let's look at the locations on the map\n",
    "createMap([39,-120], 6, [max1_lat, max1_long], name1, [max2_lat, max2_long], name2)\n",
    "\n"
   ]
  },
  {
   "cell_type": "code",
   "execution_count": null,
   "metadata": {
    "deletable": false,
    "editable": false
   },
   "outputs": [],
   "source": [
    "grader.check(\"q14\")"
   ]
  },
  {
   "cell_type": "markdown",
   "metadata": {},
   "source": [
    "**Question 1.5:** Describe what you notice about the 2 locations. How do you think the similarities/differences in max temperature increases are related to location?"
   ]
  },
  {
   "cell_type": "markdown",
   "metadata": {},
   "source": [
    "_Type your answer here, replacing this text._"
   ]
  },
  {
   "cell_type": "markdown",
   "metadata": {
    "deletable": false,
    "editable": false
   },
   "source": [
    "<!-- END QUESTION -->\n",
    "\n",
    "# 2. Carbon Dioxide: an important and rapidly increasing greenhouse gas\n",
    "In this section, we will look at:\n",
    "- monthly variations in CO2 values over 1 year\n",
    "- CO2 values variations over 15 years\n",
    "\n",
    "The NOAA data used in sections 1.1 and 1.2 represents CO2 levels recorded as mole fraction reported in units of micromol mol-1 (10-6 mol per mol of dry air); abbreviated as ppm (parts per million). Data found [here](https://gml.noaa.gov/dv/data/index.php)\n",
    "\n",
    "Let's observe and look at trends throughout the year as well as changes over time. "
   ]
  },
  {
   "cell_type": "code",
   "execution_count": null,
   "metadata": {},
   "outputs": [],
   "source": [
    "# Video \"What is the greenhouse effect?\"\n",
    "# https://youtu.be/SN5-DnOHQmE\n",
    "YouTubeVideo(\"SN5-DnOHQmE\")\n",
    "\n",
    "\n"
   ]
  },
  {
   "cell_type": "code",
   "execution_count": null,
   "metadata": {},
   "outputs": [],
   "source": [
    "# Video \"More Carbon Cylce!\" from Module 2\n",
    "# https://youtu.be/E8Y6L5TI_94\n",
    "YouTubeVideo(\"E8Y6L5TI_94\")"
   ]
  },
  {
   "cell_type": "markdown",
   "metadata": {},
   "source": [
    "## 2.1 Monthly variations of CO2\n",
    "\n",
    "Let's look at data from 2 locations in California: Los Angeles and Walnut Grove (data from 2016). The coding cell below loads the data from two .csv files, organizes the data in 2 tables of monthly averages, combines the tables and plots the monthly averages.\n",
    "\n",
    "Run the cell to visualize the data.  "
   ]
  },
  {
   "cell_type": "code",
   "execution_count": null,
   "metadata": {},
   "outputs": [],
   "source": [
    "#Let's look at 1 year of data (2016) for Los Angeles\n",
    "LA_CO2 = Table.read_table('LA_CO2.csv')\n",
    "LA_CO2_2016 = LA_CO2.select('year','month','value').where('year',2016)\n",
    "LA_CO2_2016_means = LA_CO2_2016.drop('year').group('month', np.mean).relabel('value mean', 'average CO2 - Los Angeles, CA 2016')\n",
    "\n",
    "# Let's look at 1 year of data (2016) for Walnut Grove, CA is between San Francisco and Sacramento\n",
    "WalnutGrove_CO2 = Table.read_table('WalnutGrove_CO2.csv')\n",
    "WalnutGrove_CO2_2016 = WalnutGrove_CO2.select('year','month','value').where('year',2016)\n",
    "WalnutGrove_CO2_2016_means = WalnutGrove_CO2_2016.drop('year').group('month', np.mean).relabel('value mean', 'average CO2 - Walnut Grove, CA 2016')\n",
    "\n",
    "# Let's combine both tables and plot the data\n",
    "combined_table = LA_CO2_2016_means.join('month', WalnutGrove_CO2_2016_means)\n",
    "combined_table.plot('month')\n",
    "plot_title = plt.title('Average CO2 (in ppm)')\n"
   ]
  },
  {
   "cell_type": "markdown",
   "metadata": {},
   "source": [
    "**Question 2.1** When looking at the plots above, do you observe any trends? Do you see a difference between summer and winter? Share your thoughts on why this may be so?"
   ]
  },
  {
   "cell_type": "markdown",
   "metadata": {},
   "source": [
    "_Type your answer here, replacing this text._"
   ]
  },
  {
   "cell_type": "markdown",
   "metadata": {
    "deletable": false,
    "editable": false
   },
   "source": [
    "<!-- END QUESTION -->\n",
    "\n",
    "## 2.2 Changes in average CO2 levels over 15 years (2008 - 2022)\n",
    "Now that we have looked at monthly trends of CO2 over the course of 1 year. Let's look at changes over 15 years. For this section, we will look at data collected at a station in Walnut Grove, CA."
   ]
  },
  {
   "cell_type": "code",
   "execution_count": null,
   "metadata": {},
   "outputs": [],
   "source": [
    "# Data over 15 years (2008 - 2022) Walnut Grove, CA is between San Francisco and Sacramento\n",
    "WalnutGrove_CO2 = Table.read_table('WalnutGrove_CO2.csv')\n",
    "WalnutGrove_CO2\n",
    "WalnutGrove_CO2_decade = WalnutGrove_CO2.select('year','month','value').where('year',are.between_or_equal_to(2008,2022))\n",
    "WalnutGrove_CO2_decade_means = WalnutGrove_CO2_decade.drop('month').group('year',np.average).relabel('value average', 'CO2 average (in ppm)')\n",
    "WalnutGrove_CO2_decade_means.scatter('year', fit_line = True)\n",
    "plt.xticks(range(2008,2023,2))\n",
    "plot_title_CO2_overTime = plt.title('Walnut Grove - Average CO2 over time')\n"
   ]
  },
  {
   "cell_type": "markdown",
   "metadata": {},
   "source": [
    "**Question 2.2** How are CO2 levels changing from 2008 to 2022? Why do some years have more\n",
    "CO2 and some less? Please be specific with events or trends that may have occured in those years."
   ]
  },
  {
   "cell_type": "markdown",
   "metadata": {},
   "source": [
    "_Type your answer here, replacing this text._"
   ]
  },
  {
   "cell_type": "markdown",
   "metadata": {
    "deletable": false,
    "editable": false
   },
   "source": [
    "<!-- END QUESTION -->\n",
    "\n",
    "**CONGRATULATIONS!** You just finished the notebook assignment for module 2! \n",
    "\n",
    "Be sure to...\n",
    "\n",
    "- run all of the tests and verify that they all pass, \n",
    "- choose **Download as PDF** from the **File** menu\n",
    "- submit the .pdf file on **canvas**."
   ]
  }
 ],
 "metadata": {
  "anaconda-cloud": {},
  "kernelspec": {
   "display_name": "Python 3 (ipykernel)",
   "language": "python",
   "name": "python3"
  },
  "language_info": {
   "codemirror_mode": {
    "name": "ipython",
    "version": 3
   },
   "file_extension": ".py",
   "mimetype": "text/x-python",
   "name": "python",
   "nbconvert_exporter": "python",
   "pygments_lexer": "ipython3",
   "version": "3.9.7"
  },
  "otter": {
   "OK_FORMAT": true,
   "tests": {
    "q12": {
     "name": "q12",
     "points": null,
     "suites": [
      {
       "cases": [
        {
         "code": ">>> 4.5 <= difference_in_temp <= 5.5\nTrue",
         "hidden": false,
         "locked": false
        }
       ],
       "scored": true,
       "setup": "",
       "teardown": "",
       "type": "doctest"
      }
     ]
    },
    "q14": {
     "name": "q14",
     "points": null,
     "suites": [
      {
       "cases": [
        {
         "code": ">>> \n>>> 41 <= max1_lat <= 42\nTrue",
         "hidden": false,
         "locked": false
        },
        {
         "code": ">>> -124 <= max1_long <= -123\nTrue",
         "hidden": false,
         "locked": false
        },
        {
         "code": ">>> 36 <= max2_lat <= 37\nTrue",
         "hidden": false,
         "locked": false
        },
        {
         "code": ">>> -120 <= max2_long <= -119\nTrue",
         "hidden": false,
         "locked": false
        }
       ],
       "scored": true,
       "setup": "",
       "teardown": "",
       "type": "doctest"
      }
     ]
    }
   }
  }
 },
 "nbformat": 4,
 "nbformat_minor": 2
}
