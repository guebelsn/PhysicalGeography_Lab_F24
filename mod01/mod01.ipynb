{
 "cells": [
  {
   "cell_type": "code",
   "execution_count": null,
   "metadata": {
    "deletable": false,
    "editable": false
   },
   "outputs": [],
   "source": [
    "# Initialize Otter\n",
    "import otter\n",
    "grader = otter.Notebook(\"mod01.ipynb\")"
   ]
  },
  {
   "cell_type": "markdown",
   "metadata": {},
   "source": [
    "# Module 1: Intro to Weather and Climate!\n",
    "\n",
    "### Welcome to `GEOG/ERTH 152`\n",
    "\n",
    "In this interactive notebook, we will work as geographical data scientists who would like to answer questions, learn and/or make predictions by looking at data. The first step in this quest is to look at collected data, visualize the data and observe. This will bring up all kinds of questions.\n",
    "\n",
    "This activity's goal is to review some of the material presented in the videos and lectures of module 1 by:\n",
    "- Importing data collected by NOAA\n",
    "- Focusing in on data of interest by looking at it in a tabular format\n",
    "- Visualizing the data using graphs, barcharts and maps\n",
    "- Observe, ask questions and learn from the data\n",
    "\n",
    "We will ...\n",
    "- Introduce jupyter notebooks as an interactive learning platform\n",
    "- Review the difference between weather and climate\n",
    "- Compare and contrast weather patterns at different locations and discuss factors that affect climate"
   ]
  },
  {
   "cell_type": "markdown",
   "metadata": {},
   "source": [
    "# 1. What is a Jupyter notebook?\n",
    "This webpage is called a Jupyter notebook. A notebook is a place to write code and view their results, and also to write text.\n",
    "In a notebook, each rectangle containing text or code is called a *cell*.\n",
    "\n",
    "**Text cells** (like this one) can be edited by double-clicking on them. They're written in a simple format called [Markdown](http://daringfireball.net/projects/markdown/syntax) to add formatting and section headings.\n",
    "After you edit a text cell, click the \"run cell\" button at the top that looks like ▶| or hold down `shift` + `return` to confirm any changes. \n",
    "\n",
    "**Code cells** contain code in the Python 3 language. Running a code cell will execute all of the code it contains.\n",
    "To run the code in a code cell, first click on that cell to activate it.  It'll be highlighted with a little green or blue rectangle.  Next, either press ▶| or hold down `shift` + `return`."
   ]
  },
  {
   "cell_type": "markdown",
   "metadata": {},
   "source": [
    "**Activity 1:** This is a text cell. It is the cell type where we can type text that isn't code. Go ahead and double click in this cell and you will see that you can edit it. \n",
    "\n",
    "**Type something here:** ....\n"
   ]
  },
  {
   "cell_type": "markdown",
   "metadata": {},
   "source": [
    "**Activity 2:** Click on the code cell below and run the code:"
   ]
  },
  {
   "cell_type": "code",
   "execution_count": null,
   "metadata": {},
   "outputs": [],
   "source": [
    "#This cell is a code cell. It is where we can type code that can be executed.\n",
    "#The hashtag at the start of this line makes it so that this text is a comment not code. \n",
    "\n",
    "print(\"Hello, World! \\N{EARTH GLOBE ASIA-AUSTRALIA}!\")"
   ]
  },
  {
   "cell_type": "markdown",
   "metadata": {},
   "source": [
    "And this one:"
   ]
  },
  {
   "cell_type": "code",
   "execution_count": null,
   "metadata": {},
   "outputs": [],
   "source": [
    "# This coding cell imports some python libraries that we will be using throughout this notebook\n",
    "# Don't worry about what they are, just run this cell before running any other cells below this one\n",
    "from datascience import *\n",
    "import numpy as np\n",
    "import otter\n",
    "grader = otter.Notebook(\"mod01.ipynb\")\n",
    "\n",
    "%matplotlib inline\n",
    "import matplotlib.pyplot as plt\n",
    "plt.style.use('fivethirtyeight')\n",
    "\n",
    "import folium\n",
    "def createMap(locationInit, zoomInit, marker1Location, marker1Name, marker2Location, marker2Name):\n",
    "    myMap = folium.Map(location=locationInit, tiles=\"OpenStreetMap\", zoom_start= zoomInit)\n",
    "    folium.Marker(marker1Location, popup = marker1Name).add_to(myMap)\n",
    "    folium.Marker(location = marker2Location, popup = marker2Name).add_to(myMap)\n",
    "    return myMap\n",
    "\n",
    "from IPython.display import YouTubeVideo"
   ]
  },
  {
   "cell_type": "markdown",
   "metadata": {},
   "source": [
    "# 2. Weather vs. Climate \n",
    "<img src=\"weather_climate.jpg\" alt=\"drawing\" width=\"800\" height=\"100\"/>\n",
    "\n",
    "(Image credit: iStock) [link](http://www.noaa.gov/news/new-us-climate-normals-are-here-what-do-they-tell-us-about-climate-change)\n",
    "\n",
    "### Weather\n",
    "\n",
    "Run the code cell below and watch a recap on how we define \"Weather\"."
   ]
  },
  {
   "cell_type": "code",
   "execution_count": null,
   "metadata": {},
   "outputs": [],
   "source": [
    "# Weather 101\n",
    "# The original URL is: \n",
    "# https://youtu.be/hjEBt8NT3CE\n",
    "\n",
    "YouTubeVideo(\"hjEBt8NT3CE\")"
   ]
  },
  {
   "cell_type": "markdown",
   "metadata": {},
   "source": [
    "If weather refers to short-term changes in temperature, precipitation, wind, etc., how accurate can you predict it? Think about it for a minute, then run the cell below to hear what Mona Chalabi has to say in her short TED talk."
   ]
  },
  {
   "cell_type": "code",
   "execution_count": null,
   "metadata": {},
   "outputs": [],
   "source": [
    "# How accurate is the weather forecast?\n",
    "# The original URL is: \n",
    "#https://youtu.be/_H4C-08GkKo\n",
    "YouTubeVideo(\"_H4C-08GkKo\")"
   ]
  },
  {
   "cell_type": "markdown",
   "metadata": {},
   "source": [
    "### Climate\n",
    "How is Climate different from Weather? Run the code cell below and watch a short recap on how Climate is different from Weather."
   ]
  },
  {
   "cell_type": "code",
   "execution_count": null,
   "metadata": {},
   "outputs": [],
   "source": [
    "# The original URL is: \n",
    "# https://youtu.be/zz_CRzcIT-Q\n",
    "\n",
    "YouTubeVideo(\"zz_CRzcIT-Q\")"
   ]
  },
  {
   "cell_type": "markdown",
   "metadata": {},
   "source": [
    "## 2.1 Comparing weather patterns/climate at 2 different locations"
   ]
  },
  {
   "cell_type": "markdown",
   "metadata": {},
   "source": [
    "In this section, we will look at temperature and precipitation patterns at 2 locations: **Cachuma Lake, California** and **Savannah, Georgia**. \n",
    "\n",
    "Both locations have similarities when locating them on the map: \n",
    "- Both locations have similar latitudes\n",
    "- Both locations are similar distances to the ocean\n",
    "\n",
    "**Question 2.1** Let's first have a look at their locations on the map! In the coding cell below:\n",
    "- Set **cachuma_lat** and **cachuma_long** equal to the latitude and longitude of Cachuma Lake\n",
    "- Set **savannah_lat** and **savannah_long** equal to the latitude and longitude of Savannah Airport\n",
    "\n",
    "HINT: You can use [Google Maps](https://www.google.com/maps) and right click on a location to get the coordinates (latitude and longitude)."
   ]
  },
  {
   "cell_type": "code",
   "execution_count": null,
   "metadata": {
    "tags": []
   },
   "outputs": [],
   "source": [
    "#replace the ... with the correct latitudes and longitudes in degrees\n",
    "\n",
    "cachuma_lat = ...\n",
    "cachuma_long = ...\n",
    "savannah_lat = ...\n",
    "savannah_long = ...\n",
    "print(f\"The latitude and longitude of Cachuma: ({cachuma_lat},{cachuma_long})\")\n",
    "print(f\"The latitude and longitude of Savannah: ({savannah_lat},{savannah_long})\")"
   ]
  },
  {
   "cell_type": "code",
   "execution_count": null,
   "metadata": {
    "deletable": false,
    "editable": false
   },
   "outputs": [],
   "source": [
    "grader.check(\"q21\")"
   ]
  },
  {
   "cell_type": "markdown",
   "metadata": {},
   "source": [
    "Let's look at where both places are on the map. The map below will use your answer for the question above, so make sure that the grade check passed before continuing!!\n",
    "\n",
    "The map is created using OpenStreetMap and the folium python module. This is an open online mapping system that you can use just as you would use Google Maps or any other online map. "
   ]
  },
  {
   "cell_type": "code",
   "execution_count": null,
   "metadata": {},
   "outputs": [],
   "source": [
    "# Let's check them out on a map\n",
    "createMap([33,-100], 3, [cachuma_lat, cachuma_long], 'Cachuma Lake', [savannah_lat, savannah_long], 'Savannah, GA')\n"
   ]
  },
  {
   "cell_type": "markdown",
   "metadata": {},
   "source": [
    "Now that we know where these locations are on the map, let's look at some data on temperature and precipitation.\n",
    "\n",
    "We will be looking at US Climate Normals available on [NOAA's website](https://www.ncei.noaa.gov/products/land-based-station/us-climate-normals). <img src=\"noaa_logo.png\" alt=\"drawing\" width=\"50\"/>\n",
    "\n",
    "As per the site: The U.S. Climate Normals are a large suite of data products that provide information about typical climate conditions for thousands of locations across the United States. Normals act both as a ruler to compare today’s weather and tomorrow’s forecast, and as a predictor of conditions in the near future. The official normals are calculated for a uniform 30 year period, and consist of annual/seasonal, monthly, daily, and hourly averages and statistics of temperature, precipitation, and other climatological variables from almost 15,000 U.S. weather stations.\n",
    " \n",
    "We will comparing the climate normals of the 2 locations: Cachuma Lake, CA and Savannah, GA for the 30 year period 1991 - 2020."
   ]
  },
  {
   "cell_type": "markdown",
   "metadata": {},
   "source": [
    "**STEP 1:** Gather the data from the NOAA site for both locations, and upload it in our notebook as a table\n",
    "Just run the cell below to see data tables for both locations."
   ]
  },
  {
   "cell_type": "code",
   "execution_count": null,
   "metadata": {},
   "outputs": [],
   "source": [
    "# Just run this cell, the code will read the data from a .csv file (comma separated values file) and save it in this notebook as a table\n",
    "# Loading cachuma and savannah data from 1991 -2020\n",
    "cachuma = Table.read_table('monthly-1991-2020-Cachuma.csv')\n",
    "savannah = Table.read_table('monthly-1991-2020-Savannah.csv')\n",
    "# Cleaning data to make it easy to use\n",
    "cachuma_temp = cachuma.select('DATE', 'MLY-PRCP-NORMAL', 'MLY-TAVG-NORMAL', 'MLY-TMAX-NORMAL', 'MLY-TMIN-NORMAL')\n",
    "cachuma_clean = cachuma_temp.relabel(['DATE', 'MLY-PRCP-NORMAL', 'MLY-TAVG-NORMAL', 'MLY-TMAX-NORMAL', 'MLY-TMIN-NORMAL'], \n",
    "                                     ['MONTH', 'Cachuma Precipitation', 'Cachuma Avg Temp', 'Cachuma Max Temp', 'Cachuma Min Temp'])\n",
    "savannah_temp = savannah.select('DATE', 'MLY-PRCP-NORMAL', 'MLY-TAVG-NORMAL', 'MLY-TMAX-NORMAL', 'MLY-TMIN-NORMAL')\n",
    "savannah_clean = savannah_temp.relabel(['DATE', 'MLY-PRCP-NORMAL', 'MLY-TAVG-NORMAL', 'MLY-TMAX-NORMAL', 'MLY-TMIN-NORMAL'],\n",
    "                                       ['MONTH', 'Savannah Precipitation', 'Savannah Avg Temp', 'Savannah Max Temp', 'Savannah Min Temp'])\n",
    "# Combining data from the 2 locations into 1 table\n",
    "combined_temp = cachuma_clean.drop('Cachuma Precipitation').with_columns(\"Savannah Avg Temp\", savannah_clean.column(\"Savannah Avg Temp\"),\n",
    "                                                                         \"Savannah Max Temp\", savannah_clean.column(\"Savannah Max Temp\"),\n",
    "                                                                         \"Savannah Min Temp\", savannah_clean.column(\"Savannah Min Temp\") )\n",
    "combined_temp.show()\n",
    "\n",
    "combined_prec = cachuma_clean.select('MONTH','Cachuma Precipitation').with_columns(\"Savannah Precipitation\", savannah_clean.column(\"Savannah Precipitation\"))\n",
    "combined_prec.show()"
   ]
  },
  {
   "cell_type": "markdown",
   "metadata": {},
   "source": [
    "Take a moment to look at the tables above, do you see any patterns, similarities or differences? This is not always easy to answer by just looking at a table. The next step will help!\n",
    "\n",
    "**STEP 2**: Visualize the table data by using a bar chart or a plot. \n",
    "Just run the cell below to look at the minimum temperatures, maximum temperatures and precipitation at both locations"
   ]
  },
  {
   "cell_type": "code",
   "execution_count": null,
   "metadata": {},
   "outputs": [],
   "source": [
    "# Let's visualize\n",
    "combined_temp.select('MONTH', 'Cachuma Max Temp', 'Savannah Max Temp').barh(\"MONTH\")\n",
    "plt.title(\"Max Temperatures in degrees F\")\n",
    "combined_temp.select('MONTH', 'Cachuma Min Temp', 'Savannah Min Temp').barh(\"MONTH\")\n",
    "plt.title(\"Min Temperatures in degrees F\")\n",
    "# precipitation versus temps Let's visualize\n",
    "combined_prec.barh(\"MONTH\")\n",
    "title3 = plt.title(\"Precipitation in inches\")\n"
   ]
  },
  {
   "cell_type": "markdown",
   "metadata": {
    "deletable": false,
    "editable": false
   },
   "source": [
    "<!-- BEGIN QUESTION -->\n",
    "\n",
    "**Question 2.2** Using the barcharts, compare both the temperature and precipitation data in both locations? Describe the similarities and differences you observe."
   ]
  },
  {
   "cell_type": "markdown",
   "metadata": {},
   "source": [
    "_Type your answer here, replacing this text._"
   ]
  },
  {
   "cell_type": "markdown",
   "metadata": {
    "deletable": false,
    "editable": false
   },
   "source": [
    "<!-- END QUESTION -->\n",
    "\n",
    "<!-- BEGIN QUESTION -->\n",
    "\n",
    "**Question 2.3** How do you think these differences and similarities are linked to location?"
   ]
  },
  {
   "cell_type": "markdown",
   "metadata": {},
   "source": [
    "_Type your answer here, replacing this text._"
   ]
  },
  {
   "cell_type": "markdown",
   "metadata": {
    "deletable": false,
    "editable": false
   },
   "source": [
    "<!-- END QUESTION -->\n",
    "\n",
    "**CONGRATULATIONS!** You just finished your first jupyter notebook assignment! \n",
    "\n",
    "We hope you enjoyed seeing the power of data and computer programming, tools that can help us understand weather and climate!\n",
    "\n",
    "Be sure to...\n",
    "\n",
    "- run all of the tests and verify that they all pass, \n",
    "- choose **Download as PDF** from the **File** menu\n",
    "- submit the .pdf file on **canvas**."
   ]
  }
 ],
 "metadata": {
  "anaconda-cloud": {},
  "kernelspec": {
   "display_name": "Python 3 (ipykernel)",
   "language": "python",
   "name": "python3"
  },
  "language_info": {
   "codemirror_mode": {
    "name": "ipython",
    "version": 3
   },
   "file_extension": ".py",
   "mimetype": "text/x-python",
   "name": "python",
   "nbconvert_exporter": "python",
   "pygments_lexer": "ipython3",
   "version": "3.9.7"
  },
  "otter": {
   "OK_FORMAT": true,
   "tests": {
    "q21": {
     "name": "q21",
     "points": null,
     "suites": [
      {
       "cases": [
        {
         "code": ">>> 34 <= cachuma_lat <= 35\nTrue",
         "hidden": false,
         "locked": false
        },
        {
         "code": ">>> -120 <= cachuma_long <= -119\nTrue",
         "hidden": false,
         "locked": false
        },
        {
         "code": ">>> 32 <= savannah_lat <= 33\nTrue",
         "hidden": false,
         "locked": false
        },
        {
         "code": ">>> -82 <= savannah_long <= -81\nTrue",
         "hidden": false,
         "locked": false
        }
       ],
       "scored": true,
       "setup": "",
       "teardown": "",
       "type": "doctest"
      }
     ]
    }
   }
  }
 },
 "nbformat": 4,
 "nbformat_minor": 2
}
